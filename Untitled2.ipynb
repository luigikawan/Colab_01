{
  "nbformat": 4,
  "nbformat_minor": 0,
  "metadata": {
    "colab": {
      "provenance": [],
      "authorship_tag": "ABX9TyNSZps/lhyTfHeq+YhB1NLm",
      "include_colab_link": true
    },
    "kernelspec": {
      "name": "python3",
      "display_name": "Python 3"
    },
    "language_info": {
      "name": "python"
    }
  },
  "cells": [
    {
      "cell_type": "markdown",
      "metadata": {
        "id": "view-in-github",
        "colab_type": "text"
      },
      "source": [
        "<a href=\"https://colab.research.google.com/github/luigikawan/Colab_01/blob/main/Untitled2.ipynb\" target=\"_parent\"><img src=\"https://colab.research.google.com/assets/colab-badge.svg\" alt=\"Open In Colab\"/></a>"
      ]
    },
    {
      "cell_type": "code",
      "execution_count": 2,
      "metadata": {
        "colab": {
          "base_uri": "https://localhost:8080/"
        },
        "id": "KlOaryTCLOhd",
        "outputId": "77ab0b6f-56e1-4abb-d26f-0c8ddc0016b0"
      },
      "outputs": [
        {
          "output_type": "stream",
          "name": "stdout",
          "text": [
            "Digite o valor da sua 1ª compra: 984\n",
            "Digite o valor da sua 2ª compra: 32\n",
            "Digite o valor da sua 3ª compra: 332\n",
            "\n",
            "----- Relatório de Gastos -----\n",
            "Total gasto: R$ 1348.00\n",
            "Média das compras: R$ 449.33\n",
            "Mediana das compras: R$ 332.00\n",
            "Desvio padrão: R$ 486.73\n",
            "Cuidado, você deve cortar alguns gastos!\n",
            "\n",
            "Sumário explicativo:\n",
            "- Total: soma dos valores das suas compras.\n",
            "- Média: gasto médio por compra.\n",
            "- Mediana: valor central que divide as compras em duas metades.\n",
            "- Desvio padrão: mede a variação dos valores das compras.\n",
            "Esses dados ajudam a entender seus hábitos de consumo e a controlar melhor seus gastos.\n"
          ]
        }
      ],
      "source": [
        "import statistics\n",
        "\n",
        "def pedir_valor_compra(numero):\n",
        "    while True:\n",
        "        try:\n",
        "            valor = float(input(f\"Digite o valor da sua {numero}ª compra: \"))\n",
        "            if valor < 0:\n",
        "                print(\"Valor inválido! Digite um número positivo.\")\n",
        "            else:\n",
        "                return valor\n",
        "        except ValueError:\n",
        "            print(\"Entrada inválida! Digite um número válido.\")\n",
        "\n",
        "# Entrada\n",
        "conta01 = pedir_valor_compra(1)\n",
        "conta02 = pedir_valor_compra(2)\n",
        "conta03 = pedir_valor_compra(3)\n",
        "contas = [conta01, conta02, conta03]\n",
        "\n",
        "# Cálculos estatísticos\n",
        "total = sum(contas)\n",
        "media = statistics.mean(contas)\n",
        "mediana = statistics.median(contas)\n",
        "desvio = statistics.stdev(contas)\n",
        "\n",
        "# Saída\n",
        "print(\"\\n----- Relatório de Gastos -----\")\n",
        "print(f\"Total gasto: R$ {total:.2f}\")\n",
        "print(f\"Média das compras: R$ {media:.2f}\")\n",
        "print(f\"Mediana das compras: R$ {mediana:.2f}\")\n",
        "print(f\"Desvio padrão: R$ {desvio:.2f}\")\n",
        "\n",
        "if total < 1000:\n",
        "    print(\"Parabéns, você conseguiu reduzir seus gastos!\")\n",
        "else:\n",
        "    print(\"Cuidado, você deve cortar alguns gastos!\")\n",
        "\n",
        "# Sumário explicativo\n",
        "print(\"\\nSumário explicativo:\")\n",
        "print(\"- Total: soma dos valores das suas compras.\")\n",
        "print(\"- Média: gasto médio por compra.\")\n",
        "print(\"- Mediana: valor central que divide as compras em duas metades.\")\n",
        "print(\"- Desvio padrão: mede a variação dos valores das compras.\")\n",
        "print(\"Esses dados ajudam a entender seus hábitos de consumo e a controlar melhor seus gastos.\")\n"
      ]
    }
  ]
}